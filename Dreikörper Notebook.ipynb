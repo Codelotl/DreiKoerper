{
 "cells": [
  {
   "cell_type": "code",
   "execution_count": 11,
   "metadata": {},
   "outputs": [],
   "source": [
    "import numpy as np\n",
    "import matplotlib\n",
    "matplotlib.use(\"Agg\")\n",
    "import matplotlib.pyplot as plt\n",
    "import matplotlib.animation as manimation"
   ]
  },
  {
   "cell_type": "code",
   "execution_count": 12,
   "metadata": {},
   "outputs": [
    {
     "name": "stdout",
     "output_type": "stream",
     "text": [
      "['pillow', 'ffmpeg', 'ffmpeg_file', 'html']\n"
     ]
    }
   ],
   "source": [
    "#Videocodierungs-Software suchen:\n",
    "print(manimation.writers.list())"
   ]
  },
  {
   "cell_type": "code",
   "execution_count": 24,
   "metadata": {},
   "outputs": [],
   "source": [
    "#Writer für den Videoexport definieren, dabei ffmpeg nutzen:\n",
    "FFMpegWriter = manimation.writers['ffmpeg']\n",
    "metadata = dict(title='Planetenanimation', artist='Maximilian Jaffke',\n",
    "                comment='42')\n",
    "writer = FFMpegWriter(fps=25, metadata=metadata)"
   ]
  },
  {
   "cell_type": "code",
   "execution_count": 82,
   "metadata": {},
   "outputs": [
    {
     "name": "stdout",
     "output_type": "stream",
     "text": [
      "Anzahl Iterationen:  7999\n",
      "Datenformat:  (7999, 6)\n",
      "Größter Wert:  2933080000000.0\n"
     ]
    }
   ],
   "source": [
    "#Daten aus der Textdatei laden, und groeße sowie maximalen x/y-Wert auslesen:\n",
    "data_array = np.loadtxt('SonneMerkurUranus.txt') #Hier jeweils vor das .txt den Titel der zu visualisierenden Datei angeben \n",
    "print('Anzahl Iterationen: ',len(data_array)) \n",
    "print('Datenformat: ',data_array.shape)\n",
    "print('Größter Wert: ', np.absolute(data_array).max())\n",
    "max_value = np.absolute(data_array).max()"
   ]
  },
  {
   "cell_type": "code",
   "execution_count": null,
   "metadata": {},
   "outputs": [],
   "source": []
  },
  {
   "cell_type": "code",
   "execution_count": 83,
   "metadata": {},
   "outputs": [],
   "source": [
    "#Matplotlib-Figure definieren und für schweif und Bodys jeweils einen Plot starten, mit (noch) leeren daten\n",
    "fig = plt.figure()\n",
    "plots_B = []\n",
    "plots_T = []\n",
    "zord = [2,2,3] #lediglich um Sonne-Erde-Mond besser darzustellen, da sich Erde und Mond sonst überlagern\n",
    "m_size = [4,2,1] #siehe zord\n",
    "for i in range(int(data_array.shape[1]/2)):\n",
    "    plots_B.append(plt.plot([], [],'o',zorder=2))\n",
    "\n",
    "    \n",
    "#Farbzyklus zurücksetzen, sodass Schweif und Körper die selbe Farbe haben    \n",
    "plt.gca().set_prop_cycle(None)\n",
    "    \n",
    "for i in range(int(data_array.shape[1]/2)):  \n",
    "    plots_T.append(plt.plot([], [], '-', lw = 1, zorder=1))"
   ]
  },
  {
   "cell_type": "code",
   "execution_count": null,
   "metadata": {},
   "outputs": [],
   "source": []
  },
  {
   "cell_type": "code",
   "execution_count": 84,
   "metadata": {},
   "outputs": [
    {
     "data": {
      "text/plain": [
       "(-3226388000000.0, 3226388000000.0)"
      ]
     },
     "execution_count": 84,
     "metadata": {},
     "output_type": "execute_result"
    }
   ],
   "source": [
    "# Max x und y auf maxwert der Daten setzen, plus 10%: \n",
    "\n",
    "plt.xlim(-max_value - 0.1*max_value, max_value + 0.1*max_value)\n",
    "plt.ylim(-max_value - 0.1*max_value, max_value + 0.1*max_value)\n"
   ]
  },
  {
   "cell_type": "code",
   "execution_count": 85,
   "metadata": {},
   "outputs": [],
   "source": [
    "#Länge des Trails in Frames angeben:\n",
    "trail = 500\n"
   ]
  },
  {
   "cell_type": "code",
   "execution_count": 86,
   "metadata": {},
   "outputs": [],
   "source": [
    "#Plotten Der Daten: In jedem Durchlauf die entsprechenden Daten nehmen und mit lx.set_data an figure übergeben\n",
    "with writer.saving(fig, \"SMU.mp4\", 200): #Hier kann vor das .mp4 der gewünschte Video Name gesetzt werden\n",
    "    for i in range(len(data_array)):\n",
    "        \n",
    "        #Plot-Daten zurücksetzen, sodass im nächsten Frame wieder alles neu gemacht werden kann\n",
    "        x_Body  = []\n",
    "        y_Body  = []\n",
    "        x_Trail = []\n",
    "        y_Trail = []\n",
    "        \n",
    "        #Positionen der Körper hinzufügen\n",
    "        for j in range(0, data_array.shape[1], 2):\n",
    "            x_Body.append(data_array[i,j])\n",
    "            y_Body.append(data_array[i,j+1])\n",
    "            \n",
    "        #Beim start muss der trail noch kurz sein:  \n",
    "        if i -trail <0:\n",
    "            begin_trail = 0\n",
    "        else:\n",
    "            begin_trail = i - trail\n",
    "            \n",
    "        #Positionen der Körper in den letzten \"trail\" Schritten hinzufügen:\n",
    "        for j in range(0, data_array.shape[1], 2):\n",
    "            x_Trail.append(data_array[begin_trail:i-1, j])\n",
    "            y_Trail.append(data_array[begin_trail:i-1, j+1])\n",
    "            \n",
    "        #Daten Plotten:\n",
    "        for j in range(0, int(data_array.shape[1]/2)):\n",
    "            plots_T[j][0].set_data(x_Trail[j], y_Trail[j])\n",
    "            plots_B[j][0].set_data(x_Body[j], y_Body[j])\n",
    "        \n",
    "        #Video-Frame grabben\n",
    "        writer.grab_frame()"
   ]
  },
  {
   "cell_type": "code",
   "execution_count": null,
   "metadata": {
    "collapsed": true
   },
   "outputs": [],
   "source": []
  }
 ],
 "metadata": {
  "kernelspec": {
   "display_name": "Python 3",
   "language": "python",
   "name": "python3"
  },
  "language_info": {
   "codemirror_mode": {
    "name": "ipython",
    "version": 3
   },
   "file_extension": ".py",
   "mimetype": "text/x-python",
   "name": "python",
   "nbconvert_exporter": "python",
   "pygments_lexer": "ipython3",
   "version": "3.6.5"
  }
 },
 "nbformat": 4,
 "nbformat_minor": 2
}
